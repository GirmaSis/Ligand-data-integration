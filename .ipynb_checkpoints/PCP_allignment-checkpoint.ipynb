{
 "cells": [
  {
   "cell_type": "code",
   "execution_count": 14,
   "id": "ca8de7ae-b3a5-4d5a-8e9c-10dff8d80c9f",
   "metadata": {},
   "outputs": [
    {
     "name": "stdout",
     "output_type": "stream",
     "text": [
      "<class 'pandas.core.frame.DataFrame'>\n",
      "RangeIndex: 60498 entries, 0 to 60497\n",
      "Data columns (total 2 columns):\n",
      " #   Column            Non-Null Count  Dtype  \n",
      "---  ------            --------------  -----  \n",
      " 0   Ligand            60498 non-null  object \n",
      " 1   Binding Affinity  60498 non-null  float64\n",
      "dtypes: float64(1), object(1)\n",
      "memory usage: 945.4+ KB\n"
     ]
    }
   ],
   "source": [
    "import pandas as pd\n",
    "\n",
    "file_path = \"raw/small library_znd.csv\"\n",
    "df = pd.read_csv(file_path)\n",
    "# df.head(10)\n",
    "\n",
    "df.info()\n",
    "\n",
    "\n"
   ]
  },
  {
   "cell_type": "code",
   "execution_count": 15,
   "id": "f2144aef",
   "metadata": {},
   "outputs": [
    {
     "data": {
      "text/html": [
       "<div>\n",
       "<style scoped>\n",
       "    .dataframe tbody tr th:only-of-type {\n",
       "        vertical-align: middle;\n",
       "    }\n",
       "\n",
       "    .dataframe tbody tr th {\n",
       "        vertical-align: top;\n",
       "    }\n",
       "\n",
       "    .dataframe thead th {\n",
       "        text-align: right;\n",
       "    }\n",
       "</style>\n",
       "<table border=\"1\" class=\"dataframe\">\n",
       "  <thead>\n",
       "    <tr style=\"text-align: right;\">\n",
       "      <th></th>\n",
       "      <th>Ligand</th>\n",
       "      <th>Binding Affinity</th>\n",
       "      <th>Extracted_Ligand_Code</th>\n",
       "    </tr>\n",
       "  </thead>\n",
       "  <tbody>\n",
       "    <tr>\n",
       "      <th>0</th>\n",
       "      <td>hur_model_ZINC20464531_uff_E=1069.23</td>\n",
       "      <td>-10.4</td>\n",
       "      <td>ZINC20464531</td>\n",
       "    </tr>\n",
       "    <tr>\n",
       "      <th>1</th>\n",
       "      <td>hur_model_ZINC06576216_uff_E=323.11</td>\n",
       "      <td>-9.9</td>\n",
       "      <td>ZINC06576216</td>\n",
       "    </tr>\n",
       "    <tr>\n",
       "      <th>2</th>\n",
       "      <td>hur_model_ZINC06576219_uff_E=322.63</td>\n",
       "      <td>-9.9</td>\n",
       "      <td>ZINC06576219</td>\n",
       "    </tr>\n",
       "    <tr>\n",
       "      <th>3</th>\n",
       "      <td>hur_model_ZINC15675972_uff_E=919.20</td>\n",
       "      <td>-9.8</td>\n",
       "      <td>ZINC15675972</td>\n",
       "    </tr>\n",
       "    <tr>\n",
       "      <th>4</th>\n",
       "      <td>hur_model_ZINC77267551_uff_E=1044.32</td>\n",
       "      <td>-9.8</td>\n",
       "      <td>ZINC77267551</td>\n",
       "    </tr>\n",
       "  </tbody>\n",
       "</table>\n",
       "</div>"
      ],
      "text/plain": [
       "                                 Ligand  Binding Affinity  \\\n",
       "0  hur_model_ZINC20464531_uff_E=1069.23             -10.4   \n",
       "1   hur_model_ZINC06576216_uff_E=323.11              -9.9   \n",
       "2   hur_model_ZINC06576219_uff_E=322.63              -9.9   \n",
       "3   hur_model_ZINC15675972_uff_E=919.20              -9.8   \n",
       "4  hur_model_ZINC77267551_uff_E=1044.32              -9.8   \n",
       "\n",
       "  Extracted_Ligand_Code  \n",
       "0          ZINC20464531  \n",
       "1          ZINC06576216  \n",
       "2          ZINC06576219  \n",
       "3          ZINC15675972  \n",
       "4          ZINC77267551  "
      ]
     },
     "execution_count": 15,
     "metadata": {},
     "output_type": "execute_result"
    }
   ],
   "source": [
    "# Extracting the'Ligand' code only\n",
    "df['Extracted_Ligand_Code'] = df['Ligand'].str.extract(r'(ZINC\\d+)')\n",
    "\n",
    "# Display the first few rows of the dataframe to verify the extraction\n",
    "df.head()\n",
    "\n"
   ]
  },
  {
   "cell_type": "code",
   "execution_count": 16,
   "id": "9b749a17",
   "metadata": {},
   "outputs": [],
   "source": [
    "# Save the Extracted_Ligand_Code to CSV\n",
    "df.to_csv('Extracted_Ligand_Code.csv', index=False)\n"
   ]
  },
  {
   "cell_type": "code",
   "execution_count": 18,
   "id": "fff29bba",
   "metadata": {},
   "outputs": [],
   "source": [
    "# Saving only 'Extracted_Ligand_Code' \n",
    "df['Extracted_Ligand_Code'].to_csv('zinc_codes.csv', index=False, header=True)\n"
   ]
  },
  {
   "cell_type": "code",
   "execution_count": null,
   "id": "f1ff07aa",
   "metadata": {},
   "outputs": [],
   "source": []
  }
 ],
 "metadata": {
  "kernelspec": {
   "display_name": "Python 3 (ipykernel)",
   "language": "python",
   "name": "python3"
  },
  "language_info": {
   "codemirror_mode": {
    "name": "ipython",
    "version": 3
   },
   "file_extension": ".py",
   "mimetype": "text/x-python",
   "name": "python",
   "nbconvert_exporter": "python",
   "pygments_lexer": "ipython3",
   "version": "3.9.11"
  }
 },
 "nbformat": 4,
 "nbformat_minor": 5
}
